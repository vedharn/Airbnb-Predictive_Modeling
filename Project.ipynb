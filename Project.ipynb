{
 "cells": [
  {
   "cell_type": "code",
   "execution_count": 2,
   "metadata": {
    "collapsed": true
   },
   "outputs": [],
   "source": [
    "library(readr)\n",
    "library(ggplot2)\n",
    "library(igraph)\n",
    "library(tidyverse)\n",
    "library(scales)"
   ]
  },
  {
   "cell_type": "code",
   "execution_count": 6,
   "metadata": {},
   "outputs": [
    {
     "name": "stderr",
     "output_type": "stream",
     "text": [
      "Parsed with column specification:\n",
      "cols(\n",
      "  id = col_integer(),\n",
      "  name = col_character(),\n",
      "  host_id = col_integer(),\n",
      "  host_name = col_character(),\n",
      "  neighbourhood_group = col_character(),\n",
      "  neighbourhood = col_character(),\n",
      "  latitude = col_double(),\n",
      "  longitude = col_double(),\n",
      "  room_type = col_character(),\n",
      "  price = col_integer(),\n",
      "  minimum_nights = col_integer(),\n",
      "  number_of_reviews = col_integer(),\n",
      "  last_review = col_date(format = \"\"),\n",
      "  reviews_per_month = col_double(),\n",
      "  calculated_host_listings_count = col_integer(),\n",
      "  availability_365 = col_integer()\n",
      ")\n"
     ]
    }
   ],
   "source": [
    "listings <- read_csv('listingsa.csv')"
   ]
  },
  {
   "cell_type": "code",
   "execution_count": 7,
   "metadata": {},
   "outputs": [
    {
     "data": {
      "text/html": [
       "<table>\n",
       "<thead><tr><th scope=col>id</th><th scope=col>name</th><th scope=col>host_id</th><th scope=col>host_name</th><th scope=col>neighbourhood_group</th><th scope=col>neighbourhood</th><th scope=col>latitude</th><th scope=col>longitude</th><th scope=col>room_type</th><th scope=col>price</th><th scope=col>minimum_nights</th><th scope=col>number_of_reviews</th><th scope=col>last_review</th><th scope=col>reviews_per_month</th><th scope=col>calculated_host_listings_count</th><th scope=col>availability_365</th></tr></thead>\n",
       "<tbody>\n",
       "\t<tr><td> 1475427                                         </td><td>Cozy Twin for the NYC Win! [Gay/LGBT Friendly]   </td><td> 7896605                                         </td><td>Daveyjoe!                                        </td><td>Queens                                           </td><td>Sunnyside                                        </td><td>40.74234                                         </td><td>-73.92579                                        </td><td>Private room                                     </td><td>102                                              </td><td>5                                                </td><td> 7                                               </td><td>2017-01-31                                       </td><td>1.12                                             </td><td>1                                                </td><td>  0                                              </td></tr>\n",
       "\t<tr><td>14653286                                         </td><td>Charming pre-war in Sunnyside!                   </td><td>47108895                                         </td><td>Jillian                                          </td><td>Queens                                           </td><td>Sunnyside                                        </td><td>40.73919                                         </td><td>-73.92124                                        </td><td>Private room                                     </td><td>135                                              </td><td>1                                                </td><td> 3                                               </td><td>2016-10-26                                       </td><td>0.42                                             </td><td>1                                                </td><td>364                                              </td></tr>\n",
       "\t<tr><td>15483662                                         </td><td>Spacious Room for Two in Sunnyside near Manhattan</td><td>75458625                                         </td><td>Lidia                                            </td><td>Queens                                           </td><td>Sunnyside                                        </td><td>40.74795                                         </td><td>-73.91744                                        </td><td>Private room                                     </td><td> 88                                              </td><td>3                                                </td><td> 0                                               </td><td>NA                                               </td><td>  NA                                             </td><td>3                                                </td><td>179                                              </td></tr>\n",
       "\t<tr><td>11767644                                         </td><td>2 BEDROOM Apartment - Walk to Train!             </td><td>62634797                                         </td><td>Demetra                                          </td><td>Queens                                           </td><td>Sunnyside                                        </td><td>40.73949                                         </td><td>-73.92820                                        </td><td>Entire home/apt                                  </td><td>108                                              </td><td>6                                                </td><td>21                                               </td><td>2017-03-18                                       </td><td>2.75                                             </td><td>1                                                </td><td> 74                                              </td></tr>\n",
       "\t<tr><td>15043788                                         </td><td>Private room in Sunny side 3                     </td><td>84607966                                         </td><td>Nurcan                                           </td><td>Queens                                           </td><td>Sunnyside                                        </td><td>40.73908                                         </td><td>-73.92030                                        </td><td>Private room                                     </td><td> 45                                              </td><td>1                                                </td><td>24                                               </td><td>2017-03-26                                       </td><td>3.65                                             </td><td>3                                                </td><td>331                                              </td></tr>\n",
       "\t<tr><td>14650584                                         </td><td>Private room in Sunnyside Gardens                </td><td> 2964414                                         </td><td>Josefina                                         </td><td>Queens                                           </td><td>Sunnyside                                        </td><td>40.74615                                         </td><td>-73.91704                                        </td><td>Private room                                     </td><td> 98                                              </td><td>1                                                </td><td> 1                                               </td><td>2016-08-28                                       </td><td>0.14                                             </td><td>1                                                </td><td>364                                              </td></tr>\n",
       "</tbody>\n",
       "</table>\n"
      ],
      "text/latex": [
       "\\begin{tabular}{r|llllllllllllllll}\n",
       " id & name & host\\_id & host\\_name & neighbourhood\\_group & neighbourhood & latitude & longitude & room\\_type & price & minimum\\_nights & number\\_of\\_reviews & last\\_review & reviews\\_per\\_month & calculated\\_host\\_listings\\_count & availability\\_365\\\\\n",
       "\\hline\n",
       "\t  1475427                                              & Cozy Twin for the NYC Win! {[}Gay/LGBT Friendly{]}    &  7896605                                              & Daveyjoe!                                             & Queens                                                & Sunnyside                                             & 40.74234                                              & -73.92579                                             & Private room                                          & 102                                                   & 5                                                     &  7                                                    & 2017-01-31                                            & 1.12                                                  & 1                                                     &   0                                                  \\\\\n",
       "\t 14653286                                          & Charming pre-war in Sunnyside!                    & 47108895                                          & Jillian                                           & Queens                                            & Sunnyside                                         & 40.73919                                          & -73.92124                                         & Private room                                      & 135                                               & 1                                                 &  3                                                & 2016-10-26                                        & 0.42                                              & 1                                                 & 364                                              \\\\\n",
       "\t 15483662                                          & Spacious Room for Two in Sunnyside near Manhattan & 75458625                                          & Lidia                                             & Queens                                            & Sunnyside                                         & 40.74795                                          & -73.91744                                         & Private room                                      &  88                                               & 3                                                 &  0                                                & NA                                                &   NA                                              & 3                                                 & 179                                              \\\\\n",
       "\t 11767644                                          & 2 BEDROOM Apartment - Walk to Train!              & 62634797                                          & Demetra                                           & Queens                                            & Sunnyside                                         & 40.73949                                          & -73.92820                                         & Entire home/apt                                   & 108                                               & 6                                                 & 21                                                & 2017-03-18                                        & 2.75                                              & 1                                                 &  74                                              \\\\\n",
       "\t 15043788                                          & Private room in Sunny side 3                      & 84607966                                          & Nurcan                                            & Queens                                            & Sunnyside                                         & 40.73908                                          & -73.92030                                         & Private room                                      &  45                                               & 1                                                 & 24                                                & 2017-03-26                                        & 3.65                                              & 3                                                 & 331                                              \\\\\n",
       "\t 14650584                                          & Private room in Sunnyside Gardens                 &  2964414                                          & Josefina                                          & Queens                                            & Sunnyside                                         & 40.74615                                          & -73.91704                                         & Private room                                      &  98                                               & 1                                                 &  1                                                & 2016-08-28                                        & 0.14                                              & 1                                                 & 364                                              \\\\\n",
       "\\end{tabular}\n"
      ],
      "text/markdown": [
       "\n",
       "id | name | host_id | host_name | neighbourhood_group | neighbourhood | latitude | longitude | room_type | price | minimum_nights | number_of_reviews | last_review | reviews_per_month | calculated_host_listings_count | availability_365 | \n",
       "|---|---|---|---|---|---|\n",
       "|  1475427                                          | Cozy Twin for the NYC Win! [Gay/LGBT Friendly]    |  7896605                                          | Daveyjoe!                                         | Queens                                            | Sunnyside                                         | 40.74234                                          | -73.92579                                         | Private room                                      | 102                                               | 5                                                 |  7                                                | 2017-01-31                                        | 1.12                                              | 1                                                 |   0                                               | \n",
       "| 14653286                                          | Charming pre-war in Sunnyside!                    | 47108895                                          | Jillian                                           | Queens                                            | Sunnyside                                         | 40.73919                                          | -73.92124                                         | Private room                                      | 135                                               | 1                                                 |  3                                                | 2016-10-26                                        | 0.42                                              | 1                                                 | 364                                               | \n",
       "| 15483662                                          | Spacious Room for Two in Sunnyside near Manhattan | 75458625                                          | Lidia                                             | Queens                                            | Sunnyside                                         | 40.74795                                          | -73.91744                                         | Private room                                      |  88                                               | 3                                                 |  0                                                | NA                                                |   NA                                              | 3                                                 | 179                                               | \n",
       "| 11767644                                          | 2 BEDROOM Apartment - Walk to Train!              | 62634797                                          | Demetra                                           | Queens                                            | Sunnyside                                         | 40.73949                                          | -73.92820                                         | Entire home/apt                                   | 108                                               | 6                                                 | 21                                                | 2017-03-18                                        | 2.75                                              | 1                                                 |  74                                               | \n",
       "| 15043788                                          | Private room in Sunny side 3                      | 84607966                                          | Nurcan                                            | Queens                                            | Sunnyside                                         | 40.73908                                          | -73.92030                                         | Private room                                      |  45                                               | 1                                                 | 24                                                | 2017-03-26                                        | 3.65                                              | 3                                                 | 331                                               | \n",
       "| 14650584                                          | Private room in Sunnyside Gardens                 |  2964414                                          | Josefina                                          | Queens                                            | Sunnyside                                         | 40.74615                                          | -73.91704                                         | Private room                                      |  98                                               | 1                                                 |  1                                                | 2016-08-28                                        | 0.14                                              | 1                                                 | 364                                               | \n",
       "\n",
       "\n"
      ],
      "text/plain": [
       "  id       name                                              host_id  host_name\n",
       "1  1475427 Cozy Twin for the NYC Win! [Gay/LGBT Friendly]     7896605 Daveyjoe!\n",
       "2 14653286 Charming pre-war in Sunnyside!                    47108895 Jillian  \n",
       "3 15483662 Spacious Room for Two in Sunnyside near Manhattan 75458625 Lidia    \n",
       "4 11767644 2 BEDROOM Apartment - Walk to Train!              62634797 Demetra  \n",
       "5 15043788 Private room in Sunny side 3                      84607966 Nurcan   \n",
       "6 14650584 Private room in Sunnyside Gardens                  2964414 Josefina \n",
       "  neighbourhood_group neighbourhood latitude longitude room_type       price\n",
       "1 Queens              Sunnyside     40.74234 -73.92579 Private room    102  \n",
       "2 Queens              Sunnyside     40.73919 -73.92124 Private room    135  \n",
       "3 Queens              Sunnyside     40.74795 -73.91744 Private room     88  \n",
       "4 Queens              Sunnyside     40.73949 -73.92820 Entire home/apt 108  \n",
       "5 Queens              Sunnyside     40.73908 -73.92030 Private room     45  \n",
       "6 Queens              Sunnyside     40.74615 -73.91704 Private room     98  \n",
       "  minimum_nights number_of_reviews last_review reviews_per_month\n",
       "1 5               7                2017-01-31  1.12             \n",
       "2 1               3                2016-10-26  0.42             \n",
       "3 3               0                <NA>          NA             \n",
       "4 6              21                2017-03-18  2.75             \n",
       "5 1              24                2017-03-26  3.65             \n",
       "6 1               1                2016-08-28  0.14             \n",
       "  calculated_host_listings_count availability_365\n",
       "1 1                                0             \n",
       "2 1                              364             \n",
       "3 3                              179             \n",
       "4 1                               74             \n",
       "5 3                              331             \n",
       "6 1                              364             "
      ]
     },
     "metadata": {},
     "output_type": "display_data"
    }
   ],
   "source": [
    "head(listings)"
   ]
  },
  {
   "cell_type": "code",
   "execution_count": 17,
   "metadata": {},
   "outputs": [],
   "source": [
    "model <- lm(price ~ availability_365*room_type*neighbourhood_group*minimum_nights*number_of_reviews, data=listings)"
   ]
  },
  {
   "cell_type": "code",
   "execution_count": 18,
   "metadata": {},
   "outputs": [
    {
     "data": {
      "text/html": [
       "<ol class=list-inline>\n",
       "\t<li>63.209582873957</li>\n",
       "\t<li>75.6022120385767</li>\n",
       "\t<li>69.6513875678071</li>\n",
       "\t<li>125.518793405028</li>\n",
       "\t<li>71.3934572254111</li>\n",
       "\t<li>75.918339868097</li>\n",
       "</ol>\n"
      ],
      "text/latex": [
       "\\begin{enumerate*}\n",
       "\\item 63.209582873957\n",
       "\\item 75.6022120385767\n",
       "\\item 69.6513875678071\n",
       "\\item 125.518793405028\n",
       "\\item 71.3934572254111\n",
       "\\item 75.918339868097\n",
       "\\end{enumerate*}\n"
      ],
      "text/markdown": [
       "1. 63.209582873957\n",
       "2. 75.6022120385767\n",
       "3. 69.6513875678071\n",
       "4. 125.518793405028\n",
       "5. 71.3934572254111\n",
       "6. 75.918339868097\n",
       "\n",
       "\n"
      ],
      "text/plain": [
       "[1]  63.20958  75.60221  69.65139 125.51879  71.39346  75.91834"
      ]
     },
     "metadata": {},
     "output_type": "display_data"
    },
    {
     "data": {
      "text/html": [
       "<ol class=list-inline>\n",
       "\t<li>102</li>\n",
       "\t<li>135</li>\n",
       "\t<li>88</li>\n",
       "\t<li>108</li>\n",
       "\t<li>45</li>\n",
       "\t<li>98</li>\n",
       "</ol>\n"
      ],
      "text/latex": [
       "\\begin{enumerate*}\n",
       "\\item 102\n",
       "\\item 135\n",
       "\\item 88\n",
       "\\item 108\n",
       "\\item 45\n",
       "\\item 98\n",
       "\\end{enumerate*}\n"
      ],
      "text/markdown": [
       "1. 102\n",
       "2. 135\n",
       "3. 88\n",
       "4. 108\n",
       "5. 45\n",
       "6. 98\n",
       "\n",
       "\n"
      ],
      "text/plain": [
       "[1] 102 135  88 108  45  98"
      ]
     },
     "metadata": {},
     "output_type": "display_data"
    }
   ],
   "source": [
    "listings$predicted <- fitted(model)\n",
    "head(listings$predicted)\n",
    "head(listings$price)"
   ]
  },
  {
   "cell_type": "code",
   "execution_count": 12,
   "metadata": {},
   "outputs": [
    {
     "data": {},
     "metadata": {},
     "output_type": "display_data"
    },
    {
     "data": {
      "image/png": "[encoded data removed]",
      "text/plain": [
       "plot without title"
      ]
     },
     "metadata": {},
     "output_type": "display_data"
    }
   ],
   "source": [
    "ggplot(listings, aes(x=availability_365, y=price, color=neighbourhood_group)) +\n",
    "  geom_point(alpha=0.1) +\n",
    "  geom_line(aes(x=availability_365, y=predicted, color=brand)) +\n",
    "  xlab('Price') +\n",
    "  ylab('Sales')"
   ]
  },
  {
   "cell_type": "code",
   "execution_count": null,
   "metadata": {
    "collapsed": true
   },
   "outputs": [],
   "source": []
  }
 ],
 "metadata": {
  "kernelspec": {
   "display_name": "R",
   "language": "R",
   "name": "ir"
  },
  "language_info": {
   "codemirror_mode": "r",
   "file_extension": ".r",
   "mimetype": "text/x-r-source",
   "name": "R",
   "pygments_lexer": "r",
   "version": "3.3.2"
  }
 },
 "nbformat": 4,
 "nbformat_minor": 2
}
